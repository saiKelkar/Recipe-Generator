{
 "cells": [
  {
   "cell_type": "code",
   "execution_count": 1,
   "id": "324d25f2-187f-4f5b-a46e-f39aa18e41c2",
   "metadata": {
    "scrolled": true
   },
   "outputs": [],
   "source": [
    "!pip install dask[complete] boto3 torch -q"
   ]
  },
  {
   "cell_type": "code",
   "execution_count": 2,
   "id": "8318fc87-bf5e-43ce-b941-01b82c983f75",
   "metadata": {},
   "outputs": [],
   "source": [
    "import dask\n",
    "from dask import delayed\n",
    "!pip install opencv-python -q\n",
    "import cv2\n",
    "import numpy as np\n",
    "import glob\n",
    "import os"
   ]
  },
  {
   "cell_type": "code",
   "execution_count": 3,
   "id": "cb055c1e-0df4-4f9f-b402-1166787ff47b",
   "metadata": {},
   "outputs": [
    {
     "ename": "MemoryError",
     "evalue": "Unable to allocate 7.30 GiB for an array with shape (4983, 3, 256, 256) and data type float64",
     "output_type": "error",
     "traceback": [
      "\u001b[1;31m---------------------------------------------------------------------------\u001b[0m",
      "\u001b[1;31mMemoryError\u001b[0m                               Traceback (most recent call last)",
      "Cell \u001b[1;32mIn[3], line 38\u001b[0m\n\u001b[0;32m     35\u001b[0m masks \u001b[38;5;241m=\u001b[39m np\u001b[38;5;241m.\u001b[39marray(masks)\n\u001b[0;32m     37\u001b[0m val_images, val_masks \u001b[38;5;241m=\u001b[39m \u001b[38;5;28mzip\u001b[39m(\u001b[38;5;241m*\u001b[39mval_results)\n\u001b[1;32m---> 38\u001b[0m val_images \u001b[38;5;241m=\u001b[39m np\u001b[38;5;241m.\u001b[39marray(val_images)\n\u001b[0;32m     39\u001b[0m val_masks \u001b[38;5;241m=\u001b[39m np\u001b[38;5;241m.\u001b[39marray(val_masks)\n\u001b[0;32m     41\u001b[0m \u001b[38;5;66;03m# Save to disk\u001b[39;00m\n",
      "\u001b[1;31mMemoryError\u001b[0m: Unable to allocate 7.30 GiB for an array with shape (4983, 3, 256, 256) and data type float64"
     ]
    }
   ],
   "source": [
    "@delayed\n",
    "\n",
    "def load_and_preprocess_pair(image_path, mask_path):\n",
    "    img = cv2.imread(image_path)\n",
    "    img = cv2.resize(img, (256, 256))\n",
    "    img = img / 255.0\n",
    "\n",
    "    mean = np.array([0.485, 0.456, 0.406])\n",
    "    std = np.array([0.229, 0.224, 0.225])\n",
    "    img = (img - mean) / std\n",
    "    img = np.transpose(img, (2, 0, 1))\n",
    "\n",
    "    mask = cv2.imread(mask_path, cv2.IMREAD_GRAYSCALE)\n",
    "    mask = cv2.resize(mask, (256, 256), interpolation = cv2.INTER_NEAREST)\n",
    "    \n",
    "    return img, mask\n",
    "\n",
    "# Training Dataset\n",
    "# Load file paths\n",
    "image_paths = sorted(glob.glob(\"./archive/train/img/*.jpg\"))\n",
    "mask_paths = sorted(glob.glob(\"./archive/train/masks/*.png\"))\n",
    "\n",
    "# Process images in parallel\n",
    "pairs = [load_and_preprocess_pair(img, mask) for img, mask in zip(image_paths, mask_paths)]\n",
    "results = dask.compute(*pairs)\n",
    "\n",
    "# Unpack\n",
    "images, masks = zip(*results)\n",
    "images = np.array(images)\n",
    "masks = np.array(masks)\n",
    "\n",
    "# Save to disk\n",
    "np.save(\"preprocessed_images.npy\", images)\n",
    "np.save(\"preprocessed_masks.npy\", masks)"
   ]
  },
  {
   "cell_type": "code",
   "execution_count": null,
   "id": "4e8f2ade-429c-4237-a35f-4958c4692a68",
   "metadata": {},
   "outputs": [],
   "source": [
    "# Validation Dataset\n",
    "# Load file paths\n",
    "val_image_paths = sorted(glob.glob(\"./archive/val/img/*.jpg\"))\n",
    "val_mask_paths = sorted(glob.glob(\"./archive/val/masks/*.png\"))\n",
    "\n",
    "# Process images in parallel\n",
    "val_pairs = [load_and_preprocess_pair(img, mask) for img, mask in zip(val_image_paths, val_mask_paths)]\n",
    "val_results = dask.compute(*pairs)\n",
    "\n",
    "# Unpack\n",
    "val_images, val_masks = zip(*val_results)\n",
    "val_images = np.array(val_images)\n",
    "val_masks = np.array(val_masks)\n",
    "\n",
    "# Save to disk\n",
    "np.save(\"preprocessed_val_images.npy\", val_images)\n",
    "np.save(\"preprocessed_val_masks.npy\", val_masks)"
   ]
  },
  {
   "cell_type": "code",
   "execution_count": null,
   "id": "4c2e55af-dd07-411e-af0d-99463af191ef",
   "metadata": {},
   "outputs": [],
   "source": [
    "from torch.utils.data import Dataset\n",
    "\n",
    "class SegmentationNPYDataset(Dataset):\n",
    "    def __init__(self, img_path, masks_path):\n",
    "        self.images = np.load(img_path)\n",
    "        self.masks = np.load(masks_path)\n",
    "\n",
    "    def __len__(self):\n",
    "        return len(self.images)\n",
    "\n",
    "    def __getitem__(self, idx):\n",
    "        image = torch.tensor(self.images[idx], dtype = torch.float32)\n",
    "        mask = torch.tensor(self.masks[idx], dtype = torch.long)\n",
    "\n",
    "        return image, mask"
   ]
  },
  {
   "cell_type": "code",
   "execution_count": null,
   "id": "2b6b03d9-7146-44a1-a328-4e146ba4f68f",
   "metadata": {},
   "outputs": [],
   "source": [
    "train_dataset = SegmentationNPYDataset(\n",
    "    img_path = \"preprocessed_images.npy\",\n",
    "    masks_path = \"preprocessed_masks.npy\"\n",
    ")\n",
    "\n",
    "val_dataset = SegmentationNPYDataset(\n",
    "    img_path = \"preprocessed_val_images.npy\",\n",
    "    masks_path = \"preprocessed_val_masks.npy\"\n",
    ")"
   ]
  }
 ],
 "metadata": {
  "kernelspec": {
   "display_name": "Python 3 (ipykernel)",
   "language": "python",
   "name": "python3"
  },
  "language_info": {
   "codemirror_mode": {
    "name": "ipython",
    "version": 3
   },
   "file_extension": ".py",
   "mimetype": "text/x-python",
   "name": "python",
   "nbconvert_exporter": "python",
   "pygments_lexer": "ipython3",
   "version": "3.11.11"
  }
 },
 "nbformat": 4,
 "nbformat_minor": 5
}
