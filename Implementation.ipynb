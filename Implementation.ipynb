{
 "cells": [
  {
   "cell_type": "code",
   "execution_count": 1,
   "id": "2a401cc3-b790-485a-91a8-9be0fd8da538",
   "metadata": {},
   "outputs": [],
   "source": [
    "import os\n",
    "from PIL import Image\n",
    "import torch\n",
    "from torch.utils.data import Dataset\n",
    "from torchvision import transforms"
   ]
  },
  {
   "cell_type": "code",
   "execution_count": 5,
   "id": "b7e9febb-1fac-4f5b-9f72-fddedae5d68b",
   "metadata": {},
   "outputs": [],
   "source": [
    "class SegmentationDataset(Dataset):\n",
    "    def __init__(self, img_dir, mask_dir, transform_img = None, transform_mask = None):\n",
    "        self.img_dir = img_dir\n",
    "        self.mask_dir = mask_dir\n",
    "        self.transform_img = transform_img\n",
    "        self.transform_mask = transform_mask\n",
    "\n",
    "        # Ensure consistent ordering\n",
    "        self.img_filenames = sorted(os.listdir(img_dir))\n",
    "        self.mask_filenames = sorted(os.listdir(mask_dir))\n",
    "\n",
    "    def __len__(self):\n",
    "        return len(self.img_filenames)\n",
    "\n",
    "    def __getitem__(self, idx):\n",
    "        img_path = os.path.join(self.img_dir, self.img_filenames[idx])\n",
    "        mask_path = os.path.join(self.mask_dir, self.mask_filenames[idx])\n",
    "\n",
    "        # Open image and mask\n",
    "        image = Image.open(img_path).convert(\"RGB\")\n",
    "        mask = Image.open(mask_path).convert(\"L\")\n",
    "\n",
    "        # Apply transformations (if any)\n",
    "        if self.transform_img:\n",
    "            image = self.transform_img(image)\n",
    "        if self.transform_mask:\n",
    "            mask = self.transform_mask(mask)\n",
    "\n",
    "        return image, mask"
   ]
  },
  {
   "cell_type": "code",
   "execution_count": 14,
   "id": "e197f741-7818-49ca-a89f-0c0df254c8f9",
   "metadata": {},
   "outputs": [],
   "source": [
    "transform_img = transforms.Compose([\n",
    "    transforms.ToTensor(),\n",
    "    transforms.Normalize(mean = [0.485, 0.456, 0.406], std = [0.229, 0.224, 0.225])\n",
    "])\n",
    "\n",
    "def normalize(x):\n",
    "    return x / 255.0\n",
    "\n",
    "transform_mask = transforms.Compose([\n",
    "    transforms.ToTensor(),\n",
    "    transforms.Lambda(normalize)\n",
    "])"
   ]
  },
  {
   "cell_type": "code",
   "execution_count": 15,
   "id": "d01a1356-17e6-4016-9f1b-3ff2f467cffc",
   "metadata": {},
   "outputs": [],
   "source": [
    "from torch.utils.data import DataLoader\n",
    "\n",
    "train_dataset = SegmentationDataset(\n",
    "    img_dir = \"./archive/train/resized_train_img\",\n",
    "    mask_dir = \"./archive/train/resized_train_masks\",\n",
    "    transform_img = transform_img,\n",
    "    transform_mask = transform_mask\n",
    ")\n",
    "\n",
    "val_dataset = SegmentationDataset(\n",
    "    img_dir = \"./archive/val/resized_val_img\",\n",
    "    mask_dir = \"./archive/val/resized_val_masks\",\n",
    "    transform_img = transform_img,\n",
    "    transform_mask = transform_mask\n",
    ")\n",
    "\n",
    "train_loader = DataLoader(train_dataset, batch_size = 8, shuffle = True, num_workers = 4)\n",
    "val_loader = DataLoader(val_dataset, batch_size = 8, shuffle = False, num_workers = 4)"
   ]
  },
  {
   "cell_type": "code",
   "execution_count": null,
   "id": "c41cac75-8139-4a4f-b815-f7681f853324",
   "metadata": {},
   "outputs": [],
   "source": [
    "import matplotlib.pyplot as plt\n",
    "import numpy as np\n",
    "\n",
    "def visualize_sample(image, mask):\n",
    "    fig, ax = plt.subplots(1, 2, figsize = (8, 4))\n",
    "\n",
    "    image = image.permute(1, 2, 0).numpy()\n",
    "    mask = mask.squeeze().numpy()\n",
    "\n",
    "    ax[0].imshow(image)\n",
    "    ax[0].set_title(\"Image\")\n",
    "    ax[0].axis(\"off\")\n",
    "\n",
    "    ax[1].imshow(mask, cmap = \"gray\")\n",
    "    ax[1].set_title(\"Mask\")\n",
    "    ax[1].axis(\"off\")\n",
    "\n",
    "    plt.show()\n",
    "\n",
    "data_iter = iter(train_loader)\n",
    "images, masks = next(data_iter)\n",
    "\n",
    "visualize_sample(images[0], masks[0])"
   ]
  },
  {
   "cell_type": "code",
   "execution_count": null,
   "id": "9a6f15ca-3ec8-4c57-b175-cb3b60cc7668",
   "metadata": {},
   "outputs": [],
   "source": []
  }
 ],
 "metadata": {
  "kernelspec": {
   "display_name": "Python 3 (ipykernel)",
   "language": "python",
   "name": "python3"
  },
  "language_info": {
   "codemirror_mode": {
    "name": "ipython",
    "version": 3
   },
   "file_extension": ".py",
   "mimetype": "text/x-python",
   "name": "python",
   "nbconvert_exporter": "python",
   "pygments_lexer": "ipython3",
   "version": "3.11.11"
  }
 },
 "nbformat": 4,
 "nbformat_minor": 5
}
